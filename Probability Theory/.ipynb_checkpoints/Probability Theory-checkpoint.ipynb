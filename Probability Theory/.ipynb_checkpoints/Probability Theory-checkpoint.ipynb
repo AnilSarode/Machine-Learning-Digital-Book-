{
 "cells": [
  {
   "cell_type": "markdown",
   "metadata": {},
   "source": [
    "## Table Of Content \n",
    "\n",
    "* [1.Probability Theory](#0) \n",
    "* [1.1.Random variables:](#1.1)\n",
    "* [1.2. Probability Distribution Function and Probability Density Function:(One dimensional Random variable)](#1.2)\n",
    "* [2.Two Dimensional Random variable.](#2)\n",
    "* [2.1. Distribution Function of a Two-Dimensional Random Variable (X,Y).](#2.1)\n",
    "* [2.2. Sum Rule and Product Rule.](#2.2)\n",
    "* [2.3. Bayes' Theorem](#2.3)\n",
    "* [2.4.Understanding the basic concept of the bayes' theorem.](#2.4)\n",
    "* [3.Expectations,Variance](#3)\n",
    "* [3.1. The Mean, Median, and Mode of a Random Variable](#3.1)\n",
    "* [3.2 Expected Value of a Random Variable](#3.2)\n",
    "* [3.3.Variance of a Random Variable](#3.3)\n",
    "* [3.4. Why the Square of the Differences](#3.4)\n",
    "* [4.Bayesian probabilities.](#4)\n",
    "* [4.1.Tracking a Dog ](#4.1)\n",
    "* [4.2.Here we assign  the door and wall positions to the ten locations of the hallway](#4.2)\n",
    "* [4.3. Noisy Sensors](#4.3)\n",
    "* [References](#r)"
   ]
  },
  {
   "cell_type": "markdown",
   "metadata": {},
   "source": [
    "## 1. Probability Theory <a class=\"anchor\" id=\"0\"></a>\n",
    "\n",
    "A key concept in the field of pattern recognition or in Machine learning is that of uncertainty. It arises both through noise on measurements, as well as through the finite size of data sets. Probability theory provides a consistent framework for the quantification and manipulation of uncertainty and forms one of the central foundations for pattern recognition. When combined with decision theory, discussed later, it allows us to make optimal predictions given all the information available to us, even though that information may be incomplete or ambiguous.Here I will assume you have some basic knowledge of the Probability theory and little glimpse of the set theory.\n",
    "\n",
    "### 1.1. Random variables: <a class=\"anchor\" id=\"1.1\"></a>\n",
    "\n",
    "The simple definition of the random variable is it is a function which assigns a real number to the outcome of the experiment. The simple example is the coin toss example. In this example is sample space $S=\\{H,T\\}$. If $X$ is the random variable denoting the number of heads then we have $X(H)=1$ and $X(T)=0$.  \n",
    "\n",
    "To know more you can check [here](https://www.statlect.com/fundamentals-of-probability/random-variables)\n",
    "\n",
    "\n",
    "Now consider second example of the toss of the fair die here the sample space is $S=\\{1,2,3,4,5,6\\}$ which already a set of the  numbers,but still we can have variable which can assign another real number or same number from the set of the Natural numbers.     \n",
    "\n",
    "Or Suppose the experiment $E$ is toss of the fair die,then $S=\\{1,2,3,4,5,6\\}$.If $X$ is the random variable denoting the square of the number obtain as outcome. then $X(1)=1$,$X(2)=4 ....X(6)=36$  \n",
    "\n",
    "Random variables such as coin tosses and die rolls are *discrete random variables*. **This means their sample space is represented by either a finite number of values or a countably infinite number of values such as the natural numbers.** Heights of humans are called *continuous random variables* since they can take on any real value between two limits.\n",
    "\n",
    "If $H$ is the random variable which assigns a number to the Heights of human which is again a set of uncountably infinite values or in other words If $X$ denotes the human heights then $X$ is continuous value random variable. \n",
    "\n",
    "### 1.2. Probability Distribution Function and Probability Density Function:(One dimensional Random variable)<a class=\"anchor\" id=\"1.2\"></a>\n",
    "\n",
    "First, here we consider the definition of the probability distribution or cumulative distribution function or simply distribution function of a one-dimensional random variable or single event.\n",
    "\n",
    "Consider again the sample space $S$ and then the random variable $X$ defined by it.Now consider that $X$ is taking some set of the values or subset from $S$ such that $X\\leq x$ \n",
    "\n",
    "The probability of the event $\\{X\\leq x\\}$ is called a probability distribution of random variable $X$ and is denoted by $F_X(x)$ and stated as:\n",
    "\n",
    "$$\n",
    "F_{X}(x)=P(X\\leq x)  \\hspace{1cm}  for -\\infty\\leq x \\leq \\infty\n",
    "$$\n",
    "\n",
    "In other words,$F_X(x)$ is the probability that $X$ takes any value in the set $(-\\infty,x)$\n",
    "\n",
    "The [*probability distribution*](https://en.wikipedia.org/wiki/Probability_distribution) gives the **probability** for the random variable to take any value in a sample space. For example, for a fair six sided die we might say:\n",
    "\n",
    "|Value|Probability|\n",
    "|-----|-----------|\n",
    "|1|1/6|\n",
    "|2|1/6|\n",
    "|3|1/6|\n",
    "|4|1/6|\n",
    "|5|1/6|\n",
    "|6|1/6|\n",
    "\n",
    "We denote this distribution with a lower case p: $p(x)$. Using ordinary function notation, we would write:\n",
    "\n",
    "$$P(X{=}4) = p(4) = \\frac{1}{6}$$\n",
    "\n",
    "This states that the probability of the die landing on 4 is $\\frac{1}{6}$. $P(X{=}x_k)$ is notation for \"the probability of $X$ being $x_k$\". Note the subtle notational difference. The capital $P$ denotes the probability of a single event, and **the lower case $p$ is the probability distribution function**. This can lead you astray if you are not observent. Some texts use $Pr$ instead of $P$ to ameliorate this. \n",
    "\n",
    "Another example is a fair coin. It has the sample space {H, T}. The coin is fair, so the probability for heads (H) is 50%, and the probability for tails (T) is 50%. We write this as\n",
    "\n",
    "$$\\begin{gathered}P(X{=}H)= P(X=1) = 0.5  \\\\P(X{=}T) = P(X=0) =0.5\\end{gathered}$$\n",
    "\n",
    "The probabilities for all values of a **discrete random value** is known as the *discrete probability distribution* and the probabilities for all values of a *continuous random value* is known as the *continuous probability distribution*.\n",
    "\n",
    "To be a probability distribution the **probability of each value $x_i$ must be $x_i \\ge 0$**, since no probability can be less than zero. Secondly, the sum of the probabilities for all values must equal one. This should be intuitively clear for a coin toss: if the odds of getting heads is 70%, then the odds of getting tails must be 30%. We formulize this requirement as\n",
    "\n",
    "$$\\sum\\limits_u P(X{=}u)= 1$$\n",
    "\n",
    "for discrete distributions, and as \n",
    "\n",
    "$$\\int\\limits_u P(X{=}u) \\,du= 1$$\n",
    "\n",
    "for continuous distributions.\n",
    "\n",
    "For the fair die example the distribution shows the same probability for each value: it is called the **uniform distribution*\n",
    "\n",
    "![](Uniform.png)"
   ]
  },
  {
   "cell_type": "code",
   "execution_count": 1,
   "metadata": {},
   "outputs": [],
   "source": [
    "import numpy as np\n",
    "import matplotlib.pyplot as plt\n",
    "import seaborn as sns"
   ]
  },
  {
   "cell_type": "code",
   "execution_count": 2,
   "metadata": {},
   "outputs": [
    {
     "name": "stdout",
     "output_type": "stream",
     "text": [
      "Populating the interactive namespace from numpy and matplotlib\n"
     ]
    }
   ],
   "source": [
    "# Plot style\n",
    "sns.set()\n",
    "%pylab inline\n",
    "pylab.rcParams['figure.figsize'] = (6, 4)"
   ]
  },
  {
   "cell_type": "code",
   "execution_count": 3,
   "metadata": {},
   "outputs": [
    {
     "name": "stdout",
     "output_type": "stream",
     "text": [
      "[1. 2. 3. 4. 5. 6.]\n",
      "[1650 1694 1652 1648 1616 1740]\n",
      "10000\n"
     ]
    },
    {
     "data": {
      "image/png": "[encoded data removed]",
      "text/plain": [
       "<Figure size 432x288 with 1 Axes>"
      ]
     },
     "metadata": {
      "needs_background": "light"
     },
     "output_type": "display_data"
    }
   ],
   "source": [
    "num_throws = 10000\n",
    "outcomes = np.zeros(num_throws)\n",
    "for i in range(num_throws):\n",
    "    # let's roll the die\n",
    "    outcome = np.random.choice(['1', '2', '3', '4', '5', '6'])\n",
    "    #print(outcome)\n",
    "    outcomes[i] = outcome\n",
    "\n",
    "    \n",
    "val, cnt = np.unique(outcomes, return_counts=True)\n",
    "print(val)\n",
    "print(cnt)\n",
    "print(len(outcomes))\n",
    "prop = cnt / len(outcomes)\n",
    "\n",
    "# Now that we have rolled our die 10000 times, let's plot the results\n",
    "plt.bar(val, prop)\n",
    "plt.ylabel(\"Probability\")\n",
    "plt.xlabel(\"Outcome\")\n",
    "plt.show()\n",
    "plt.close()"
   ]
  },
  {
   "cell_type": "markdown",
   "metadata": {},
   "source": [
    "From [here](https://github.com/hadrienj/deepLearningBook-Notes/blob/master/3.1-3.3%20Probability%20Mass%20and%20Density%20Functions/3.1-3.3%20Probability%20Mass%20and%20Density%20Functions.ipynb) I took a reference to  created an array filled with $0$ with the Numpy function `zeros()`. At each throw, I chose a value among the 6 possibilities. Then, I used the Numpy function `unique()` with the parameter `return_counts` set to `True` to get the number of each possible outcome. I plotted the proportion for each possible value.\n",
    "\n",
    "We can see that the distribution looks like a uniform distribution and that each outcome has a probability of around $\\frac{1}{6}$ ($\\approx 0.17$).\n",
    "\n",
    "\n",
    "Now come to the definition of *probability density function* or *probability mass function* or simply density function.\n",
    "\n",
    "If $X$ is a random variable and if $F_X(x)$ is its distribution function then the derivative of $F_X(x)$ w.r.t $x$ is called ***probability density function*** or ***probability mass function*** or ***simply density function*** of the random variable $X$ and is denoted by $f_X(x)$\n",
    "\n",
    "You can think of how the probability distribution varies w.r.t each associated  value of the random variable or how dense the probability w.r.t random variable.\n",
    "\n",
    "$$\n",
    "f_X(x)=\\frac{\\partial F_X(x)}{\\partial x}\n",
    "$$\n",
    "\n",
    "To know more about the  difference between the Probability distribution function and Probability density function is you can check [here](https://math.stackexchange.com/questions/175850/what-is-the-difference-between-probability-density-function-and-probability-d). "
   ]
  },
  {
   "cell_type": "markdown",
   "metadata": {},
   "source": [
    "## 2. Two Dimensional Random variable.<a class=\"anchor\" id=\"2\"></a>\n",
    "\n",
    "While going through the definition of the random variable we consider only one characteristic of the outcome of the experiment.However,many trials we studied two characteristic of an outcome and we need pair of numbers to describe those outcome.For example we may select the student at random from a group and measure his height and weight or simple case we roll two dice we need two random variable to represent each dice.\n",
    "\n",
    "Let $E$ be an experiment and $S$ be the sample space associated with $E$. Let $X=X(s)$ and $Y=Y(s)$ be two functions each assigning a real number to each outcome $s$ of $S$'one. We call $(X,Y)$ a **two dimensional random variable**   \n",
    "\n",
    "\n",
    "Now suppose A and B are events defined by the correspondence  $ A =\\{X|X \\leq x\\}$ and $ B =\\{Y|Y \\leq y\\}$ then genetically A corresponds to the set of all points to the left of the vertical line $X=x$ and B corresponds to the set of points below horizontal line $Y=y$.If $ A\\cap B$ is the intersection of the two events then it's mapping will be a common area as shown in the below.\n",
    "\n",
    "\n",
    "![](Two_D_R.png)\n",
    "\n",
    "Note here $X$ and $Y$ maps the outcome of the evens $A$ and $B$ to real number $\\leq x$ and $\\leq y$. \n",
    "\n",
    "### 2.1. Distribution Function of a Two-Dimensional Random Variable (X,Y).  <a class=\"anchor\" id=\"2.1\"></a>\n",
    "\n",
    "Now consider the definition of the probability distribution or  Distribution function for the two-dimensional random variable $(X, Y)$ as \n",
    "\n",
    "The probability of the joint event $\\{X\\leq x, Y\\leq y\\}$ is called a **Joint probability distribution** of random variable $X$ and $Y$ is denoted by $ F_{X,Y}(x,y)$ and stated as:\n",
    "\n",
    "$$\n",
    "F_{X,Y}(x,y)=P(X\\leq x,Y\\leq y)\n",
    "$$\n",
    "\n",
    "In other words if the events defined as above i.e. if $ A =\\{X|X \\leq x\\}$ and $ B =\\{Y|Y \\leq y\\}$ then $ A \\cap B = \\{(X,Y)|X\\leq x,Y\\leq y\\}$ and we have \n",
    "\n",
    "$$\n",
    "F_{X,Y}(x,y)=P(X\\leq x,Y\\leq y)=A \\cap B\n",
    "$$\n",
    "\n",
    "\n",
    "\n",
    "\n",
    "### 2.2. Sum Rule and Product Rule. <a class=\"anchor\" id=\"2.2\"></a>\n",
    "\n",
    "In order to derive the rules of probability, consider the slightly more general example shown below  in involving two random variables $X$ and $Y$. We shall suppose that $X$ can take any of the values $x_i$ where $i = 1, . . . , M$, and $Y$ can take the values $y_j$,where $j = 1, . . . , L$. In this figure we have $M = 5$ and $L = 3$. If we consider a total number $N$ of instances(number of points) of these variables, then we denote the number of instances where $X = x_i$ and $Y = y_j$ by $n_{i j}$, which is the number of points in the corresponding cell of the array. The number of points in column $i$, corresponding to $X = x_i$, is denoted by $c_i$, and the number of points in row $j$, corresponding to $Y = y_j$, is denoted by $r_j$.\n",
    "\n",
    "\n",
    "![](X_Y.png)\n",
    "\n",
    "\n",
    "The probability that $X$ will take the value $x_i$ and $Y$ will take the value $y_j$ is written $p(X = x_i, Y = y_j)$ and is called the joint probability of $X = x_i$ and $Y = y_j$. It is given by the number of points falling in the cell $i,j$ as a fraction of the total number of points, and hence \n",
    "\n",
    "$$\n",
    "p(X=x_1,Y=y_j)=\\frac{n_{i,j}}{N} \\cdot \\cdot \\cdot (1)\n",
    "$$\n",
    "\n",
    "Here we are implicitly considering the limit $N \\to \\infty$ . Similarly, the probability that $X$ takes the value xi irrespective of the value of $Y$ is written as $p(X = x_i)$ and is given by the fraction of the total number of points that fall in column $i$, so that\n",
    "\n",
    "$$\n",
    "p(X = x_i) = \\frac{c_i}{N} \\cdot \\cdot \\cdot (2)\n",
    "$$\n",
    "\n",
    "Because the number of instances in column $i$ in above Figure  is just the sum of the number of instances(points) in each cell of that column $i$, we have $c_i = \\sum\\limits_j n_{ij} $ and therefore,from $(1)$ and $(2)$ we have\n",
    "\n",
    "$$\n",
    "p(X = x_i) = \\frac{\\sum\\limits_j n_{i,j}}{N}\n",
    "$$\n",
    "\n",
    "$$\n",
    "p(X = x_i) = \\sum\\limits_j \\frac {n_{i,j}}{N}\n",
    "$$\n",
    "\n",
    "$$\n",
    "p(X = x_i) = \\sum^{L}_{j=1} p(X=x_1,Y=y_j)\\cdot \\cdot \\cdot (3)\n",
    "$$\n",
    "\n",
    "which is the ***sum rule*** of probability. Note that $p(X = x_i)$ is sometimes called the **marginal probability**, because it is obtained by marginalizing, or summing out, the other variables (in this case $Y$ )\n",
    "\n",
    "You can learn more about[ Why does marginalization of a joint probability distribution use sums?](https://math.stackexchange.com/questions/952693/why-does-marginalization-of-a-joint-probability-distribution-use-sums/3603705#3603705)\n",
    "\n",
    "If we consider only those instances for which $X = x_i$, then the fraction of such instances for which $Y = y_j$ is written $p(Y = y_j|X = x_i)$ and is called the **conditional probability** of $Y = y_j$ given $X = x_i$. It is obtained by finding the fraction of those points in column $i$ that fall in cell $i,j$ and hence is given by\n",
    "\n",
    "$$\n",
    "p(Y = y_j|X = x_i)=\\frac{n_{i,j}}{c_i} \\cdot \\cdot \\cdot (4)\n",
    "$$\n",
    "\n",
    "$$\n",
    "p(Y = y_j,X = x_i)=\\frac{n_{i,j}}{N}=\\frac{n_{i,j}}{c_i}\\frac{c_i}{N}\n",
    "$$\n",
    "\n",
    "from (1),(2) and (4)\n",
    "\n",
    "$$\n",
    "p(Y = y_j,X = x_i)= p(Y = y_j|X = x_i)p(X=x_i) \\cdot \\cdot \\cdot (5)\n",
    "$$\n",
    "\n",
    "which is the ***product rule*** of probability.\n",
    "\n",
    "With this more compact notation, we can write the two fundamental rules of probability theory in the following form\n",
    "\n",
    "**The Rules of Probability**\n",
    "\n",
    "\n",
    "**Sum rule:**\n",
    "$$\n",
    "p(X) = \\sum_{Y} p(X,Y)\\cdot \\cdot \\cdot (6)\n",
    "$$\n",
    "\n",
    "**Product Rule:**\n",
    "$$\n",
    "p(Y,X)= p(Y|X )p(X)\\cdot \\cdot \\cdot (7)\n",
    "$$\n",
    "\n",
    "### 2.3. Bayes' Theorem<a class=\"anchor\" id=\"2.3\"></a>\n",
    "\n",
    "Here $p(X, Y )$ is a joint probability and is verbalized as \"the probability of $X$ and $Y$\". Similarly, the quantity $p(Y |X)$ is a conditional probability and is verbalized as the probability of $Y$ given $X$\", whereas the quantity $p(X)$ is a marginal probability and is simply \"the probability of $X$\". These two simple rules form the basis for all of the probabilistic machinery that we use throughout this book.\n",
    "\n",
    "From the product rule, together with the symmetry property $p(X, Y ) = p(Y, X)$, we immediately obtain the following relationship between conditional probabilities\n",
    "\n",
    "$$\n",
    "p(Y,X)= p(Y|X )p(X)=p(X, Y )=p(X|Y)p(Y)  \n",
    "$$\n",
    "\n",
    "$$\n",
    "p(Y|X)=\\frac{p(X|Y)p(Y)}{p(X)}\\cdot \\cdot \\cdot (8)\n",
    "$$\n",
    "\n",
    "which is called *Bayes' theorem* and which plays a central role in pattern recognition and machine learning. Using the sum rule, the denominator in Bayes' theorem can be expressed in terms of the quantities appearing in the numerator i.e. marginal probability.\n",
    "\n",
    "$$\n",
    "p(X) = \\sum_{Y} {p(X|Y)p(Y)}\n",
    "$$\n",
    "\n",
    "\n",
    "We can view the denominator in Bayes' theorem as being the normalization constant required to ensure that the sum of the conditional probability on the left-hand side of(8) over all values of Y equals one."
   ]
  },
  {
   "cell_type": "markdown",
   "metadata": {},
   "source": [
    "### 2.4.Understanding the basic concept of the bayes' theorem.<a class=\"anchor\" id=\"2.4\"></a>\n",
    "\n",
    "We will introduce the basic concepts of probability theory by considering a simple example. Imagine we have two boxes, one red and one blue, and in the red box we have $2$ apples and $6$ oranges, and in the blue box we have $3$ apples and $1$ orange. This is illustrated in below Figure. Now suppose we randomly pick one of the boxes and from that box we randomly select an item of fruit, and having observed which sort of fruit it is we replace it in the box from which it came. We could imagine repeating this process many times. Let us suppose that in so doing we pick the red box $40\\%$ of the time and we pick the blue box $60\\%$ of the time, and that when we remove an item of fruit from a box we are **equally likely** to select any of the pieces of fruit in the box.\n",
    "\n",
    "![](Example.png)\n",
    "\n",
    "In this example, the identity of the box that will be chosen is a random variable, which we shall denote by $B$. This random variable can take one of two possible values, namely $r$ (corresponding to the red box) or $b$ (corresponding to the blue box). Similarly, the identity of the fruit is also a random variable and will be denoted by $F$. It can take either of the values a (for apple) or o (for orange).To begin with, we shall define the probability of an event to be the fraction of times that event occurs out of the total number of trials, in the limit that the total number of trials goes to infinity. Thus the probability of selecting the red box is $4/10$ and the probability of selecting the blue box is $6/10$. We write these probabilities as $p(B = r) = 4/10$ and $p(B = b) = 6/10$. Note that, by definition, probabilities must lie in the interval $[0, 1]$. Also, if the events are mutually exclusive and if they include all possible outcomes (for instance, in this example the box must be either red or blue), then we see that the probabilities for those events must sum to one.\n",
    "\n",
    "We can now ask questions such as: \"what is the overall probability that the selection procedure will pick an apple?\", or \"given that we have chosen an orange, what is the probability that the box we chose was the blue one?\". We can answer questions such as these, and indeed much more complex questions associated with problems in pattern recognition, as we have already  equipped ourselves with the two elementary rules of probability, known as the sum rule and the product rule.\n",
    "\n",
    "For the moment, we shall once again be explicit about distinguishing between the random variables and their instantiations. We have seen that the probabilities of selecting either the red or the blue boxes are given by\n",
    "\n",
    "$$\n",
    "p(B = r) = 4/10 \\cdot \\cdot \\cdot (1)\n",
    "$$\n",
    "\n",
    "$$\n",
    "p(B = b) = 6/10 \\cdot \\cdot \\cdot (2)\n",
    "$$\n",
    "\n",
    "respectively. Note that these satisfy $p(B = r) + p(B = b) = 1$.\n",
    "\n",
    "Now suppose that we pick a box at random, and it turns out to be the blue box. As we know the box is blue then the probability of selecting an apple is just the fraction of apples in the blue box which is $3/4$, and so $p(F = a|B = b) = 3/4$. In fact, we can write out all four conditional probabilities for the type of fruit, given the selected box\n",
    "\n",
    "$$\n",
    "p(F = a|B = r) = 1/4 \\cdot \\cdot \\cdot (3)\n",
    "$$\n",
    "\n",
    "$$\n",
    "p(F = a|B = b) = 3/4 \\cdot \\cdot \\cdot (4)\n",
    "$$\n",
    "\n",
    "$$\n",
    "p(F = o|B = r) = 3/4 \\cdot \\cdot \\cdot (5)\n",
    "$$\n",
    "\n",
    "$$\n",
    "p(F = o|B = b) = 1/4 \\cdot \\cdot \\cdot (6)\n",
    "$$\n",
    "\n",
    "Again, note that these probabilities are normalized so that\n",
    "\n",
    "$$\n",
    "p(F = a|B = r) + p(F = o|B = r) = 1\n",
    "$$\n",
    "\n",
    "$$\n",
    "p(F = a|B = b) + p(F = o|B = b) = 1.\n",
    "$$\n",
    "\n",
    "We can now use the sum and product rules of probability to evaluate the overall probability of choosing an apple\n",
    "\n",
    "$$\n",
    "p(F = a) = p(F = a|B = r)p(B = r) + p(F = a|B = b)p(B = b)= \\frac{1}{4} \\times \\frac{4}{10} + \\frac{3}{4} \\times \\frac{6}{10} =\\frac{11}{20}\n",
    "$$\n",
    "\n",
    "from which it follows, using the sum rule, that $ p(F = o) = 1 − 11/20 = 9/20$.\n",
    "\n",
    "\n",
    "$$\\begin{array}{l|l|c}\n",
    "\\text{F \\ B} & \\text{r} & \\text{b} & \\text{Total} \\\\\n",
    "\\hline\n",
    "\\ a & \n",
    "\\frac{1}{10} &\n",
    "\\frac{18}{40}& \n",
    "\\frac{22}{40}=\\frac{11}{20}\\\\\n",
    "\\ o & \\frac{3}{10} & \\frac{6}{40} & \\frac{18}{40}=\\frac{9}{20}\\\\\n",
    "\\text{Total} & \\frac{4}{10}=\\frac{2}{5} & \\frac{24}{40} =\\frac{3}{5} & {1}\n",
    "\\end{array}$$\n",
    "\n",
    "The table above show the **joint probability** as \n",
    "$$ \n",
    "p(F = a ,B=r ) = p(F = a|B = r)p(B = r)= \\frac{1}{10} \\cdot \\cdot \\cdot (7)\n",
    "$$\n",
    "\n",
    "$$\n",
    "p(F = a, B=b ) = p(F = a|B = b)p(B = b) =\\frac{18}{40}=\\frac{9}{20} \\cdot \\cdot \\cdot (8)\n",
    "$$\n",
    "\n",
    "and \n",
    "$$ \n",
    "p(F = o ,B=r ) = p(F = o|B = r)p(B = r)= \\frac{3}{10} \\cdot \\cdot \\cdot (9)\n",
    "$$\n",
    "\n",
    "$$ \n",
    "p(F = o ,B=b ) = p(F = a|B = b)p(B = b)= \\frac{6}{40} \\cdot \\cdot \\cdot (10)\n",
    "$$\n",
    "\n",
    "Now you can see the \n",
    "$$\n",
    "p(F = a) = p(F = a|B = r)p(B = r) + p(F = a|B = b)p(B = b)= \\frac{22}{40} = \\frac{11}{20} \\cdot \\cdot \\cdot (11)\n",
    "$$\n",
    "\n",
    "Which is the marginal probability of choosing an apple  $p(F = a)$ of irrespective of the bucket,obtained by tracing the row *`a`* and making the total in above table .Similarly we can say marginal probability of choosing an orange $p(F = o)$\n",
    "\n",
    "$$\n",
    "p(F = o) = p(F = o|B = r)p(B = r) + p(F = o|B = b)p(B = b)= \\frac{18}{40} = \\frac{9}{20} \\cdot \\cdot \\cdot (12)\n",
    "$$\n",
    "\n",
    "Suppose instead we are told that a piece of fruit has been selected and it is an orange, and we would like to know which box it came from. This requires that we evaluate the probability distribution over boxes conditioned on the identity of the fruit, whereas the probabilities in $(3)–(6)$ give the probability distribution over the fruit conditioned on the identity of the box. We can solve the problem of reversing the conditional probability by using ***Bayes' theorem*** to give\n",
    "\n",
    "$$\n",
    "p(B = r|F = o)=\\frac{p(B = r|F = o)}{p(F = o)}=\\frac{3}{4} \\times \\frac{4}{10} \\times \\frac{20}{9}=\\frac{2}{3} \\cdot \\cdot \\cdot (13)\n",
    "$$\n",
    "\n",
    "From the sum rule, it then follows that $p(B = b|F = o) = 1 − 2/3 = 1/3$.\n",
    "\n",
    "Note the denominator of the equation (13) it is the Total Probability or marginal probability $p(F=o)$\n",
    "\n",
    "We can provide an important interpretation of Bayes' theorem as follows. If we had been asked which box had been chosen before being told the identity of the selected item of fruit, then the most complete information we have available is provided by the **probability $p(B)$**. We call this the ***prior probability*** because it is the probability available before we observe the identity of the fruit. Once we are told that the fruit is an orange, we can then use Bayes' theorem to compute the probability $p(B|F )$, which we shall call the ***posterior probability*** because it is the probability obtained after we have observed $F$. Note that in this example, the prior probability of selecting the red box was $4/10$, so that we were more likely to select the blue box than the red one as probability of selecting the blue box was $6/10$ . However, once we have observed that the piece of selected fruit is an orange, we find that the posterior probability of the red box is now $2/3$, so that\n",
    "it is now more likely that the box we selected was in fact the red one. **This result accords with our intuition, as the proportion of oranges is much higher in the red box than it is in the blue box, and so the observation that the fruit was an orange provides significant evidence favouring the red box.** In fact, the evidence is sufficiently strong that it outweighs the prior and makes it more likely that the red box was chosen rather than the blue one.\n",
    "\n",
    "Finally, we note that if the joint distribution of two variables factorizes into the product of the marginals, so that$p(X, Y ) = p(X)p(Y ),$ then $X$ and $Y$ are said to be ***independent***. From the product rule, we see that $p(Y |X) = p(Y )$, and so the conditional distribution of $Y$ given $X$ is indeed independent of the value of $X$. For instance, in our boxes of fruit example, if each box contained the same fraction of apples and oranges, then $p(F|B) = P (F )$, so that the probability of selecting, say, an apple is independent of which box is chosen."
   ]
  },
  {
   "cell_type": "markdown",
   "metadata": {},
   "source": [
    "## 3.Expectations,Variance<a class=\"anchor\" id=\"3\"></a>\n",
    "\n",
    "Now as we have learn basics probability theory which is required for Machine learning and pattern Recognition.I will divert your attention little from probability to statistic which is also an essential for Machine learning and pattern recognition.After that again we will view a probability other than the frequencies of random, repeatable events.i.e. Bayesian view but before that let's see some statistic.   \n",
    "\n",
    "### 3.1. The Mean, Median, and Mode of a Random Variable<a class=\"anchor\" id=\"3.1\"></a>\n",
    "\n",
    "Given a set of data we often want to know a representative or average value for that set. There are many measures for this, and the concept is called a [*measure of central tendency*](https://en.wikipedia.org/wiki/Central_tendency). For example we might want to know the *average* height of the students in a class. We all know how to find the average of a set of data, but let me belabor the point so I can introduce more formal notation and terminology. Another word for average is the *mean*. We compute the mean by summing the values and dividing by the number of values. If the heights of the students in meters is \n",
    "\n",
    "$$X = \\{1.8, 2.0, 1.7, 1.9, 1.6\\}$$\n",
    "\n",
    "we compute the mean as\n",
    "\n",
    "$$\\mu = \\frac{1.8 + 2.0 + 1.7 + 1.9 + 1.6}{5} = 1.8$$\n",
    "\n",
    "It is traditional to use the symbol $\\mu$ (mu) to denote the mean.\n",
    "\n",
    "We can formalize this computation with the equation\n",
    "\n",
    "$$ \\mu = \\frac{1}{n}\\sum^n_{i=1} x_i$$\n",
    "\n",
    "NumPy provides `numpy.mean()` for computing the mean."
   ]
  },
  {
   "cell_type": "code",
   "execution_count": 4,
   "metadata": {},
   "outputs": [
    {
     "data": {
      "text/plain": [
       "1.8"
      ]
     },
     "execution_count": 4,
     "metadata": {},
     "output_type": "execute_result"
    }
   ],
   "source": [
    "x = [1.8, 2.0, 1.7, 1.9, 1.6]\n",
    "np.mean(x)"
   ]
  },
  {
   "cell_type": "markdown",
   "metadata": {},
   "source": [
    "As a convenience NumPy arrays provide the method `mean()`."
   ]
  },
  {
   "cell_type": "code",
   "execution_count": 5,
   "metadata": {},
   "outputs": [
    {
     "data": {
      "text/plain": [
       "1.8"
      ]
     },
     "execution_count": 5,
     "metadata": {},
     "output_type": "execute_result"
    }
   ],
   "source": [
    "x = np.array([1.8, 2.0, 1.7, 1.9, 1.6])\n",
    "x.mean()"
   ]
  },
  {
   "cell_type": "markdown",
   "metadata": {},
   "source": [
    "The *mode* of a set of numbers is the number that occurs most often. If only one number occurs most often we say it is a *unimodal* set, and if two or more numbers occur the most with equal frequency than the set is *multimodal*. For example the set {1, 2, 2, 2, 3, 4, 4, 4} has modes 2 and 4, which is multimodal, and the set {5, 7, 7, 13} has the mode 7, and so it is unimodal. We will not be computing the mode in this manner in this book, but we do use the concepts of unimodal and multimodal in a more general sense. For example, in the **Discrete Bayes** chapter we talked about our belief in the dog's position as a *multimodal distribution* because we assigned different probabilities to different positions.\n",
    "\n",
    "Finally, the *median* of a set of numbers is the middle point of the set so that half the values are below the median and half are above the median. Here, above and below is in relation to the set being sorted.  If the set contains an even number of values then the two middle numbers are averaged together.\n",
    "\n",
    "Numpy provides `numpy.median()` to compute the median. As you can see the median of {1.8, 2.0, 1.7, 1.9, 1.6} is 1.8, because 1.8 is the third element of this set after being sorted. In this case the median equals the mean, but that is not generally true."
   ]
  },
  {
   "cell_type": "code",
   "execution_count": 6,
   "metadata": {},
   "outputs": [
    {
     "data": {
      "text/plain": [
       "1.8"
      ]
     },
     "execution_count": 6,
     "metadata": {},
     "output_type": "execute_result"
    }
   ],
   "source": [
    "np.median(x)"
   ]
  },
  {
   "cell_type": "markdown",
   "metadata": {},
   "source": [
    "### 3.2.Expected Value of a Random Variable<a class=\"anchor\" id=\"3.2\"></a>\n",
    "\n",
    "The [*expected value*](https://en.wikipedia.org/wiki/Expected_value) of a random variable is the average value it would have if we took an infinite number of samples of it and then averaged those samples together. Let's say we have $x=[1,3,5]$ and each value is equally probable. What value would we *expect* $x$ to have, on average?\n",
    "\n",
    "It would be the average of 1, 3, and 5, of course, which is 3. That should make sense; we would expect equal numbers of 1, 3, and 5 to occur, so $(1+3+5)/3=3$ is clearly the average of that infinite series of samples. In other words, here the expected value is the *mean* of the sample space.\n",
    "\n",
    "Now suppose that each value has a different probability of happening. Say 1 has an 80% chance of occurring, 3 has an 15% chance, and 5 has only a 5% chance. In this case we compute the expected value by multiplying each value of $x$ by the percent chance of it occurring, and summing the result. For this case we could compute\n",
    "\n",
    "$$\\mathbb E[X] = (1)(0.8) + (3)(0.15) + (5)(0.05) = 1.5$$\n",
    "\n",
    "Here I have introduced the notation $\\mathbb E[X]$ for the expected value of $x$. Some texts use $E(x)$. The value 1.5 for $x$ makes intuitive sense because $x$ is far more likely to be 1 than 3 or 5, and 3 is more likely than 5 as well.\n",
    "\n",
    "We can formalize this by letting $x_i$ be the $i^{th}$ value of $X$, and $p_i$ be the probability of its occurrence. This gives us\n",
    "\n",
    "$$\\mathbb E[X] = \\sum_{i=1}^n p_ix_i$$\n",
    "\n",
    "A trivial bit of algebra shows that **if the probabilities are all equal**, the expected value is the same as the mean:\n",
    "\n",
    "$$\\mathbb E[X] = \\sum_{i=1}^n p_ix_i = \\frac{1}{n}\\sum_{i=1}^n x_i = \\mu_x$$\n",
    "\n",
    "If $x$ is continuous we substitute the sum for an integral, like so\n",
    "\n",
    "$$\\mathbb E[X] = \\int_{a}^b\\, xf(x) \\,dx$$\n",
    "\n",
    "where $f(x)$ is the probability distribution function of $x$. We won't be using this equation yet, but we will be using it in the next chapter.\n",
    "\n",
    "We can write a bit of Python to simulate this. Here I take 1,000,000 samples and compute the expected value of the distribution we just computed analytically."
   ]
  },
  {
   "cell_type": "code",
   "execution_count": 7,
   "metadata": {},
   "outputs": [
    {
     "name": "stdout",
     "output_type": "stream",
     "text": [
      "[0.18221106 0.26803878 0.98716756 ... 0.96463138 0.22386289 0.36515648]\n"
     ]
    }
   ],
   "source": [
    "N=1000000\n",
    "Random_number=np.random.rand(N)\n",
    "print(Random_number)"
   ]
  },
  {
   "cell_type": "code",
   "execution_count": 8,
   "metadata": {},
   "outputs": [
    {
     "data": {
      "text/plain": [
       "1.499878"
      ]
     },
     "execution_count": 8,
     "metadata": {},
     "output_type": "execute_result"
    }
   ],
   "source": [
    "total = 0\n",
    "N = 1000000\n",
    "count1=0\n",
    "count2=0\n",
    "count=0\n",
    "r1=[]\n",
    "r2=[]\n",
    "r3=[]\n",
    "for r in np.random.rand(N):\n",
    "    if r <= .80: \n",
    "        total += 1\n",
    "        count1+=1\n",
    "        r1.append(r)\n",
    "    elif r < .95: \n",
    "        total += 3\n",
    "        count2+=1\n",
    "        r2.append(r)\n",
    "    else: \n",
    "        total +=5 \n",
    "        count+=1\n",
    "\n",
    "total / N"
   ]
  },
  {
   "cell_type": "code",
   "execution_count": 9,
   "metadata": {},
   "outputs": [
    {
     "name": "stdout",
     "output_type": "stream",
     "text": [
      "0.799924\n",
      "799924\n"
     ]
    }
   ],
   "source": [
    "print(count1/N)\n",
    "print(count1)"
   ]
  },
  {
   "cell_type": "code",
   "execution_count": 10,
   "metadata": {},
   "outputs": [
    {
     "name": "stdout",
     "output_type": "stream",
     "text": [
      "0.150213\n",
      "150213\n"
     ]
    }
   ],
   "source": [
    "print(count2/N)\n",
    "print(count2)"
   ]
  },
  {
   "cell_type": "code",
   "execution_count": 11,
   "metadata": {},
   "outputs": [
    {
     "name": "stdout",
     "output_type": "stream",
     "text": [
      "0.049863\n",
      "49863\n"
     ]
    }
   ],
   "source": [
    "print(count/N)\n",
    "print(count)"
   ]
  },
  {
   "cell_type": "code",
   "execution_count": 12,
   "metadata": {},
   "outputs": [
    {
     "name": "stdout",
     "output_type": "stream",
     "text": [
      "1000000\n"
     ]
    }
   ],
   "source": [
    "print(count+count1+count2)"
   ]
  },
  {
   "cell_type": "code",
   "execution_count": 13,
   "metadata": {},
   "outputs": [
    {
     "name": "stdout",
     "output_type": "stream",
     "text": [
      "[0.29823368214044, 0.18364022482214803, 0.3754700524172536, 0.6269435602038707, 0.6239840219216081]\n"
     ]
    }
   ],
   "source": [
    "print(r1[0:5])"
   ]
  },
  {
   "cell_type": "code",
   "execution_count": 14,
   "metadata": {},
   "outputs": [
    {
     "name": "stdout",
     "output_type": "stream",
     "text": [
      "[0.8516636040877794, 0.8169307748171974, 0.9034997271054547, 0.9396872055073728, 0.9110712702682442]\n"
     ]
    }
   ],
   "source": [
    "print(r2[0:5])"
   ]
  },
  {
   "cell_type": "markdown",
   "metadata": {},
   "source": [
    "### Exercise\n",
    "\n",
    "What is the expected value of a die role?\n",
    "\n",
    "### Solution\n",
    "\n",
    "Each side is equally likely, so each has a probability of 1/6. Hence\n",
    "$$\\begin{aligned}\n",
    "\\mathbb E[X] &= 1/6\\times1 + 1/6\\times 2 + 1/6\\times 3 + 1/6\\times 4 + 1/6\\times 5 + 1/6\\times6 \\\\\n",
    "&= 1/6(1+2+3+4+5+6)\\\\&= 3.5\\end{aligned}$$\n",
    "\n",
    "### Exercise\n",
    "\n",
    "Given the uniform continuous distribution\n",
    "\n",
    "$$f(x) = \\frac{1}{b - a}$$\n",
    "\n",
    "compute the expected value for $a=0$ and $B=20$.\n",
    "\n",
    "### Solution\n",
    "$$\\begin{aligned}\n",
    "\\mathbb E[X] &= \\int_0^{20}\\, x\\frac{1}{20} \\,dx \\\\\n",
    "&= \\bigg[\\frac{x^2}{40}\\bigg]_0^{20} \\\\\n",
    "&= 10 - 0 \\\\\n",
    "&= 10\n",
    "\\end{aligned}$$"
   ]
  },
  {
   "cell_type": "markdown",
   "metadata": {},
   "source": [
    "### 3.3.Variance of a Random Variable<a class=\"anchor\" id=\"3.3\"></a>\n",
    "\n",
    "The computation above tells us the average height of the students, but it doesn't tell us everything we might want to know. For example, suppose we have three classes of students, which we label $X$, $Y$, and $Z$, with these heights:"
   ]
  },
  {
   "cell_type": "code",
   "execution_count": 15,
   "metadata": {},
   "outputs": [],
   "source": [
    "X = [1.8, 2.0, 1.7, 1.9, 1.6]\n",
    "Y = [2.2, 1.5, 2.3, 1.7, 1.3]\n",
    "Z = [1.8, 1.8, 1.8, 1.8, 1.8]"
   ]
  },
  {
   "cell_type": "markdown",
   "metadata": {},
   "source": [
    "Using NumPy we see that the mean height of each class is the same. "
   ]
  },
  {
   "cell_type": "code",
   "execution_count": 16,
   "metadata": {},
   "outputs": [
    {
     "name": "stdout",
     "output_type": "stream",
     "text": [
      "1.8 1.8 1.8\n"
     ]
    }
   ],
   "source": [
    "print(np.mean(X), np.mean(Y), np.mean(Z))"
   ]
  },
  {
   "cell_type": "markdown",
   "metadata": {},
   "source": [
    "The mean of each class is 1.8 meters, but notice that there is a much greater amount of variation in the heights in the second class than in the first class, and that there is no variation at all in the third class.\n",
    "\n",
    "The mean tells us something about the data, but not the whole story. We want to be able to specify how much *variation* there is between the heights of the students. You can imagine a number of reasons for this. Perhaps a school district needs to order 5,000 desks, and they want to be sure they buy sizes that accommodate the range of heights of the students. \n",
    "\n",
    "Statistics has formalized this concept of measuring variation into the notion of [*standard deviation*](https://en.wikipedia.org/wiki/Standard_deviation) and [*variance*](https://en.wikipedia.org/wiki/Variance). The equation for computing the variance is\n",
    "\n",
    "$$\\mathit{VAR}(X) = \\mathbb  E[(X - \\mu)^2]$$\n",
    "\n",
    "**Ignoring the square for a moment, you can see that the variance is the *expected value* for how much the sample space $X$ varies from the mean $\\mu:$ ($X-\\mu)$.** I will explain the purpose of the squared term later. The formula for the expected value is $\\mathbb E[X] = \\sum\\limits_{i=1}^n p_ix_i$ so we can substitute that into the equation above to get(assume equaly probable)\n",
    "\n",
    "$$\\mathit{VAR}(X) = \\frac{1}{n}\\sum_{i=1}^n (x_i - \\mu)^2$$\n",
    " \n",
    "Let's compute the variance of the three classes to see what values we get and to become familiar with this concept.\n",
    "\n",
    "The mean of $X$ is 1.8 ($\\mu_x = 1.8$) so we compute\n",
    "\n",
    "$$ \n",
    "\\begin{aligned}\n",
    "\\mathit{VAR}(X) &=\\frac{(1.8-1.8)^2 + (2-1.8)^2 + (1.7-1.8)^2 + (1.9-1.8)^2 + (1.6-1.8)^2} {5} \\\\\n",
    "&= \\frac{0 + 0.04 + 0.01 + 0.01 + 0.04}{5} \\\\\n",
    "\\mathit{VAR}(X)&= 0.02 \\, m^2\n",
    "\\end{aligned}$$\n",
    "\n",
    "NumPy provides the function `var()` to compute the variance:"
   ]
  },
  {
   "cell_type": "code",
   "execution_count": 17,
   "metadata": {},
   "outputs": [
    {
     "name": "stdout",
     "output_type": "stream",
     "text": [
      "0.02 meters squared\n"
     ]
    }
   ],
   "source": [
    "print(\"{:.2f} meters squared\".format(np.var(X)))"
   ]
  },
  {
   "cell_type": "markdown",
   "metadata": {},
   "source": [
    "This is perhaps a bit hard to interpret. Heights are in meters, yet the variance is meters squared. Thus we have a more commonly used measure, the *standard deviation*, which is defined as the square root of the variance:\n",
    "\n",
    "$$\\sigma = \\sqrt{\\mathit{VAR}(X)}=\\sqrt{\\frac{1}{n}\\sum_{i=1}^n(x_i - \\mu)^2}$$\n",
    "\n",
    "It is typical to use $\\sigma$ for the *standard deviation* and $\\sigma^2$ for the *variance*. In most of this book I will be using $\\sigma^2$ instead of $\\mathit{VAR}(X)$ for the variance; they symbolize the same thing.\n",
    "\n",
    "For the first class we compute the standard deviation with\n",
    "\n",
    "$$ \n",
    "\\begin{aligned}\n",
    "\\sigma_x &=\\sqrt{\\frac{(1.8-1.8)^2 + (2-1.8)^2 + (1.7-1.8)^2 + (1.9-1.8)^2 + (1.6-1.8)^2} {5}} \\\\\n",
    "&= \\sqrt{\\frac{0 + 0.04 + 0.01 + 0.01 + 0.04}{5}} \\\\\n",
    "\\sigma_x&= 0.1414\n",
    "\\end{aligned}$$\n",
    "\n",
    "We can verify this computation with the NumPy method `numpy.std()` which computes the standard deviation. 'std' is a common abbreviation for standard deviation."
   ]
  },
  {
   "cell_type": "code",
   "execution_count": 18,
   "metadata": {},
   "outputs": [
    {
     "name": "stdout",
     "output_type": "stream",
     "text": [
      "std 0.1414\n",
      "var 0.0200\n"
     ]
    }
   ],
   "source": [
    "print('std {:.4f}'.format(np.std(X)))\n",
    "print('var {:.4f}'.format(np.std(X)**2))"
   ]
  },
  {
   "cell_type": "markdown",
   "metadata": {},
   "source": [
    "And, of course, $0.1414^2 = 0.02$, which agrees with our earlier computation of the variance.\n",
    "\n",
    "What does the standard deviation signify? It tells us how much the heights vary amongst themselves. \"How much\" is not a mathematical term. We will be able to define it much more precisely once we introduce the concept of a Gaussian in the next section. For now I'll say that for many things 68% of all values lie within one standard deviation of the mean. In other words we can conclude that for a random class 68% of the students will have heights between 1.66 (1.8-0.1414) meters and 1.94 (1.8+0.1414) meters. \n",
    "\n",
    "We can view this in a plot:"
   ]
  },
  {
   "cell_type": "code",
   "execution_count": 19,
   "metadata": {},
   "outputs": [
    {
     "name": "stderr",
     "output_type": "stream",
     "text": [
      "/home/anil/anaconda3/lib/python3.7/_collections_abc.py:841: MatplotlibDeprecationWarning: \n",
      "The examples.directory rcparam was deprecated in Matplotlib 3.0 and will be removed in 3.2. In the future, examples will be found relative to the 'datapath' directory.\n",
      "  self[key] = other[key]\n"
     ]
    },
    {
     "data": {
      "image/png": "[encoded data removed]",
      "text/plain": [
       "<Figure size 900x400 with 1 Axes>"
      ]
     },
     "metadata": {},
     "output_type": "display_data"
    }
   ],
   "source": [
    "#format the book\n",
    "import book_format\n",
    "book_format.set_style()\n",
    "from kf_book.gaussian_internal import plot_height_std\n",
    "import matplotlib.pyplot as plt\n",
    "\n",
    "plot_height_std(X)"
   ]
  },
  {
   "cell_type": "markdown",
   "metadata": {},
   "source": [
    "For only 5 students we obviously will not get exactly 68% within one standard deviation. We do see that 3 out of 5 students are within $\\pm1\\sigma$, or 60%, which is as close as you can get to 68% with only 5 samples. Let's look at the results for a class with 100 students.\n",
    "\n",
    ">  We write one standard deviation as  $1\\sigma$, which is pronounced \"one standard deviation\", not \"one sigma\". Two standard deviations is $2\\sigma$, and so on."
   ]
  },
  {
   "cell_type": "code",
   "execution_count": 20,
   "metadata": {},
   "outputs": [
    {
     "data": {
      "image/png": "[encoded data removed]",
      "text/plain": [
       "<Figure size 900x400 with 1 Axes>"
      ]
     },
     "metadata": {},
     "output_type": "display_data"
    },
    {
     "name": "stdout",
     "output_type": "stream",
     "text": [
      "mean = 1.790\n",
      "std  = 0.132\n"
     ]
    }
   ],
   "source": [
    "from numpy.random import randn\n",
    "data = 1.8 + randn(100)*.1414\n",
    "mean, std = data.mean(), data.std()\n",
    "\n",
    "plot_height_std(data, lw=2)\n",
    "print('mean = {:.3f}'.format(mean))\n",
    "print('std  = {:.3f}'.format(std))"
   ]
  },
  {
   "cell_type": "markdown",
   "metadata": {},
   "source": [
    "By eye roughly 68% of the heights lie within $\\pm1\\sigma$ of the mean 1.8."
   ]
  },
  {
   "cell_type": "markdown",
   "metadata": {},
   "source": [
    "Now let's compute the standard deviation for \n",
    "\n",
    "$$Y = [2.2, 1.5, 2.3, 1.7, 1.3]$$\n",
    "\n",
    "The mean of $Y$ is $\\mu=1.8$ m, so \n",
    "\n",
    "$$ \n",
    "\\begin{aligned}\n",
    "\\sigma_y &=\\sqrt{\\frac{(2.2-1.8)^2 + (1.5-1.8)^2 + (2.3-1.8)^2 + (1.7-1.8)^2 + (1.3-1.8)^2} {5}} \\\\\n",
    "&= \\sqrt{0.152} = 0.39 \\ m\n",
    "\\end{aligned}$$\n",
    "\n",
    "We will verify that with NumPy with"
   ]
  },
  {
   "cell_type": "code",
   "execution_count": 21,
   "metadata": {},
   "outputs": [
    {
     "name": "stdout",
     "output_type": "stream",
     "text": [
      "std of Y is 0.39 m\n"
     ]
    }
   ],
   "source": [
    "print('std of Y is {:.2f} m'.format(np.std(Y)))"
   ]
  },
  {
   "cell_type": "markdown",
   "metadata": {},
   "source": [
    "This corresponds with what we would expect. There is more variation in the heights for $Y$, and the standard deviation is larger.\n",
    "\n",
    "Finally, let's compute the standard deviation for $Z$. There is no variation in the values, so we would expect the standard deviation to be zero.\n",
    "\n",
    "$$ \n",
    "\\begin{aligned}\n",
    "\\sigma_z &=\\sqrt{\\frac{(1.8-1.8)^2 + (1.8-1.8)^2 + (1.8-1.8)^2 + (1.8-1.8)^2 + (1.8-1.8)^2} {5}} \\\\\n",
    "&= \\sqrt{\\frac{0+0+0+0+0}{5}} \\\\\n",
    "\\sigma_z&= 0.0 \\ m\n",
    "\\end{aligned}$$"
   ]
  },
  {
   "cell_type": "code",
   "execution_count": 22,
   "metadata": {},
   "outputs": [
    {
     "name": "stdout",
     "output_type": "stream",
     "text": [
      "0.0\n"
     ]
    }
   ],
   "source": [
    "print(np.std(Z))"
   ]
  },
  {
   "cell_type": "markdown",
   "metadata": {},
   "source": [
    "Before we continue I need to point out that I'm ignoring that on average  men are taller than women. **In general the height variance of a class that contains only men or women will be smaller than a class with both sexes.** This is true for other factors as well. Well nourished children are taller than malnourished children. Scandinavians are taller than Italians. When designing experiments statisticians need to take these factors into account. \n",
    "\n",
    "I suggested we might be performing this analysis to order desks for a school district.  For each age group there are likely to be two different means - one clustered around the mean height of the females, and a second mean clustered around the mean heights of the males. The mean of the entire class will be somewhere between the two. If we bought desks for the mean of all students we are likely to end up with desks that fit neither the males or females in the school! \n",
    "\n",
    "We will not to consider these issues in this book.  Consult any standard probability text if you need to learn techniques to deal with these issues."
   ]
  },
  {
   "cell_type": "markdown",
   "metadata": {},
   "source": [
    "### 3.4. Why the Square of the Differences <a class=\"anchor\" id=\"3.4\"></a>\n",
    "\n",
    "Why are we taking the *square* of the differences for the variance? I could go into a lot of math, but let's look at this in a simple way. Here is a chart of the values of $X$ plotted against the mean for $X=[3,-3,3,-3]$"
   ]
  },
  {
   "cell_type": "code",
   "execution_count": 23,
   "metadata": {},
   "outputs": [
    {
     "data": {
      "image/png": "[encoded data removed]",
      "text/plain": [
       "<Figure size 900x400 with 1 Axes>"
      ]
     },
     "metadata": {},
     "output_type": "display_data"
    }
   ],
   "source": [
    "X = [3, -3, 3, -3]\n",
    "mean = np.average(X)\n",
    "for i in range(len(X)):\n",
    "    plt.plot([i ,i], [mean, X[i]], color='k')\n",
    "plt.axhline(mean)\n",
    "plt.xlim(-1, len(X))\n",
    "plt.tick_params(axis='x', labelbottom=False)"
   ]
  },
  {
   "cell_type": "markdown",
   "metadata": {},
   "source": [
    "If we didn't take the square of the differences the signs would cancel everything out:\n",
    "\n",
    "$$\\frac{(3-0) + (-3-0) + (3-0) + (-3-0)}{4} = 0$$\n",
    "\n",
    "This is clearly incorrect, as there is more than 0 variance in the data. \n",
    "\n",
    "Maybe we can use the absolute value? We can see by inspection that the result is $12/4=3$ which is certainly correct — each value varies by 3 from the mean. But what if we have $Y=[6, -2, -3, 1]$? In this case we get $12/4=3$. $Y$ is clearly more spread out than $X$, but the computation yields the same variance. If we use the formula using squares we get a variance of 3.5 for $Y$, which reflects its larger variation.\n",
    "\n",
    "**This is not a proof of correctness. Indeed, Carl Friedrich Gauss, the inventor of the technique, recognized that it is somewhat arbitrary. If there are outliers then squaring the difference gives disproportionate weight to that term. For example, let's see what happens if we have:**"
   ]
  },
  {
   "cell_type": "code",
   "execution_count": 24,
   "metadata": {},
   "outputs": [
    {
     "name": "stdout",
     "output_type": "stream",
     "text": [
      "Variance of X with outlier    = 621.45\n",
      "Variance of X without outlier =   2.03\n"
     ]
    }
   ],
   "source": [
    "X = [1, -1, 1, -2, -1, 2, 1, 2, -1, 1, -1, 2, 1, -2, 100]\n",
    "print('Variance of X with outlier    = {:6.2f}'.format(np.var(X)))\n",
    "print('Variance of X without outlier = {:6.2f}'.format(np.var(X[:-1])))"
   ]
  },
  {
   "cell_type": "markdown",
   "metadata": {},
   "source": [
    "Is this \"correct\"? You tell me. Without the outlier of 100 we get $\\sigma^2=2.03$, which accurately reflects how $X$ is varying absent the outlier. The one outlier swamps (: to overwhelm numerically or by an excess of something : FLOOD\n",
    ") the variance computation. Do we want to swamp the computation so we know there is an outlier, or robustly incorporate the outlier and still provide an estimate close to the value absent the outlier? Again, you tell me. Obviously it depends on your problem.\n",
    "\n",
    "I will not continue down this path; if you are interested you might want to look at the work that James Berger has done on this problem, in a field called *Bayesian robustness*, or the excellent publications on *robust statistics* by Peter J. Huber [3]. In this book we will always use variance and standard deviation as defined by Gauss.\n",
    "\n",
    "**The point to gather from this is that these *summary* statistics always tell an incomplete story about our data. In this example variance as defined by Gauss does not tell us we have a single large outlier.** However, it is a powerful tool, as we can concisely describe a large data set with a few numbers. If we had 1 billion data points we would not want to inspect plots by eye or look at lists of numbers; summary statistics give us a way to describe the shape of the data in a useful way."
   ]
  },
  {
   "cell_type": "markdown",
   "metadata": {},
   "source": [
    "## 4. Bayesian probabilities. <a class=\"anchor\" id=\"4\"></a>\n",
    "\n",
    "\n",
    "So far in this chapter, we have viewed probabilities in terms of the frequencies of random, repeatable events. We shall refer to this as the classical or frequentist interpretation of probability. Now we turn to the more general Bayesian view, in which probabilities provide a quantification of uncertainty.[Bayesian and frequentist reasoning in plain English](https://stats.stackexchange.com/questions/22/bayesian-and-frequentist-reasoning-in-plain-english) you can learn more about them.\n",
    "\n",
    "Consider an uncertain event, for example whether the moon was once in its own orbit around the sun, or whether the Arctic ice cap will have disappeared by the end of the century. These are not events that can be repeated numerous times in order to define a notion of probability as we did earlier in the context of boxes of fruit. Nevertheless, we will generally have some idea, for example, of how quickly we think the polar ice is melting. If we now obtain fresh evidence, for instance from a new Earth observation satellite gathering novel forms of diagnostic information, we may revise our opinion on the rate of ice loss. Our assessment of such matters will affect the actions we take, for instance the extent to which we endeavour to reduce the emission of greenhouse gasses. In such circumstances, we would like to be able to quantify our expression of uncertainty and make precise revisions of uncertainty in the light of new evidence, as well as subsequently to be able to take optimal actions or decisions as a consequence. This can all be achieved through the elegant, and very general, Bayesian interpretation of probability.\n",
    "\n",
    "Consider the example of polynomial curve fitting discussed in [Polynomial Regression](https://github.com/AnilSarode/Machine-Learning-Digital-Book-/blob/master/polynomial%20Regression/Polynomial%20Regression.ipynb) It seems reasonable to apply the frequentist notion of probability to the random values of the observed variables $t_{n}$. However, we would like to address and quantify the uncertainty that surrounds the appropriate choice for the model parameters ${\\theta}$. We shall see that, from a Bayesian perspective, we can use the machinery of probability theory to describe the uncertainty in model parameters such as ${\\theta}$, or indeed in the choice of model itself.\n",
    "\n",
    "Bayes' theorem now acquires a new significance. Recall that in the boxes of fruit\\ example, the observation of the identity of the fruit provided relevant information that altered the probability that the chosen box was the red one. **In that example, Bayes' theorem was used to convert a prior probability into a posterior probability by incorporating the evidence provided by the observed data.** As we shall see in detail later second chapter of probability,we can adopt a similar approach when making inferences about quantities such as the parameters ${\\theta}$ in the polynomial curve fitting example. We capture our assumptions about ${\\theta}$, before observing the data, in the form of a prior probability distribution $p(\\theta)$. The effect of the observed data $ D = {t_1, . . . , t_N}$ is expressed through the conditional probability $p(D|{\\theta})$, and we shall see later chapter on probability  how this can be represented explicitly. Bayes theorem, which takes the form\n",
    "\n",
    "$$\n",
    "p({\\theta}|D)=\\frac{p(D|{\\theta})p(\\theta)}{p(D)} \\cdot \\cdot \\cdot (A)\n",
    "$$\n",
    "\n",
    "then allows us to evaluate the uncertainty in ${\\theta}$ after we have observed $D$ in the form\n",
    "of the ***posterior probability*** $p({\\theta}|D)$\n",
    "\n",
    "The quantity $p(D|{\\theta})$ on the right-hand side of Bayes' theorem is evaluated for the observed data set $D$ and can be viewed as a function of the parameter vector ${\\theta}$, in which case it is called the ***likelihood*** function. It expresses how probable the observed data set is for different settings of the parameter vector $w$. Note that the ***likelihood*** is not a probability distribution over ${\\theta}$, and its integral with respect to ${\\theta}$ does not (necessarily) equal one.\n",
    "\n",
    "Here from this video[StatQuest: Probability vs Likelihood](https://www.youtube.com/watch?v=pYxNSUDSFH4) (Note: In this video **Normal Distribution** is consider which we see later in second chapter of probability) you can say given the distribution we can get the **probability** as area under the curve in case of continuous random variable and i.e $p(data/Distribution)$ and  given the data how likely we can fit the distribution i.e $L(Distribution/data)$so we can land the same probability $p(data/Distribution)$.To get more insight about this [What is the difference between “likelihood” and “probability”?](https://stats.stackexchange.com/questions/2641/what-is-the-difference-between-likelihood-and-probability)  \n",
    "You can also learn why numerator in (A) is required from [here](https://towardsdatascience.com/understanding-bayes-theorem-7e31b8434d4b) also [Why do we refer to the denominator of Bayes' theorem as “marginal probability”?](https://math.stackexchange.com/questions/1339666/why-do-we-refer-to-the-denominator-of-bayes-theorem-as-marginal-probability/1943255#1943255).\n",
    "\n",
    "Given this definition of likelihood, we can state Bayes' theorem in words.\n",
    "\n",
    "$$\n",
    "posterior \\propto likelihood \\times  prior\n",
    "$$\n",
    "\n",
    "where all of these quantities are viewed as functions of ${\\theta}$.The denominator in equation (A) is the normalization constant, which ensures that the posterior distribution on the left-hand side is a valid probability density and integrates to one. Indeed, integrating both sides of (A) with respect to ${\\theta}$, we can express the denominator in Bayes' theorem in terms of the prior distribution and the likelihood function.\n",
    "\n",
    "So from (A) \n",
    "\n",
    "$$\n",
    "p({\\theta}|D){p(D)}={p(D|{\\theta})p(\\theta)} \n",
    "$$\n",
    "\n",
    "Integrating both the sides w.r.t ${\\theta}$\n",
    "\n",
    "$$\n",
    "\\int_{\\theta} p({\\theta}|D){p(D)}= \\int_{\\theta} {p(D|{\\theta})p(\\theta)} \n",
    "$$\n",
    "\n",
    "Writing the left side as joint probability of ${\\theta}$ and $D$\n",
    "\n",
    "$$\n",
    "\\int_{\\theta} p({\\theta},D)= \\int_{\\theta} {p(D|{\\theta})p(\\theta)} \n",
    "$$\n",
    "\n",
    "Integrating w.r.t ${\\theta}$ is result in total probability or marginal probability  $p(D)$.Indeed the right hand side is convey the same.  \n",
    "$$\n",
    " p(D)= \\int_{\\theta} {p(D|{\\theta})p(\\theta)} \n",
    "$$\n",
    "\n",
    "In both the ***Bayesian*** and ***frequentist*** paradigms, the likelihood function $p(D|{\\theta})$ plays a central role. However, the manner in which it is used is fundamentally different in the two approaches. In a frequentist setting, ${\\theta}$ is considered to be a fixed parameter, whose value is determined by some form of ‘estimator’, and error bars on this estimate are obtained by considering the distribution of possible data sets $D$. By contrast, from the Bayesian viewpoint there is only a single data set D (namely the one that is actually observed), and the uncertainty in the parameters is expressed through a probability distribution over ${\\theta}$.\n",
    "\n",
    "A widely used frequentist estimator is **maximum likelihood** , in which ${\\theta}$ is set to the value that maximizes the likelihood function $L({\\theta}/D)= p(D|{\\theta})$,this corresponds to choosing the value of ${\\theta}$ for which the probability of the observed data set is maximized. In the machine learning literature, the negative log of the likelihood function is called an error function. Because the negative logarithm is a monotonically decreasing function, maximizing the likelihood is equivalent to minimizing the error.\n",
    "\n",
    "We will learn more about **Maximum likelihood** more in next chapter. At last I will use [Kalman-and-Bayesian-Filters-in-Python](https://github.com/rlabbe/Kalman-and-Bayesian-Filters-in-Python/blob/master/02-Discrete-Bayes.ipynb) to give you more intuition about the bayes'. \n",
    "\n",
    "### 4.1. Tracking a Dog <a class=\"anchor\" id=\"4.1\"></a>\n",
    "\n",
    "Let's begin with a simple problem. We have a dog friendly workspace, and so people bring their dogs to work. Occasionally the dogs wander out of offices and down the halls. We want to be able to track them. So during a hackathon somebody invented a sonar sensor to attach to the dog's collar. It emits a signal, listens for the echo, and based on how quickly an echo comes back we can tell whether the dog is in front of an open doorway or not. It also senses when the dog walks, and reports in which direction the dog has moved. It connects to the network via wifi and sends an update once a second.\n",
    "\n",
    "I want to track my dog Simon, so I attach the device to his collar and then fire up Python, ready to write code to track him through the building. At first blush this may appear impossible. If I start listening to the sensor of Simon's collar I might read **door**, **hall**, **hall**, and so on. How can I use that information to determine where Simon is?\n",
    "\n",
    "**To keep the problem small enough to plot easily we will assume that there are only 10 positions in the hallway, which we will number 0 to 9, where 1 is to the right of 0. For reasons that will be clear later, we will also assume that the hallway is circular or rectangular. If you move right from position 9, you will be at position 0.**  \n",
    "\n",
    "When I begin listening to the sensor I have no reason to believe that Simon is at any particular position in the hallway. **From my perspective he is equally likely to be in any position.** There are 10 positions, so the probability that he is in any given position is 1/10. \n",
    "\n",
    "Let's represent our belief of his position in a NumPy array. I could use a Python list, but NumPy arrays offer functionality that we will be using soon."
   ]
  },
  {
   "cell_type": "code",
   "execution_count": 25,
   "metadata": {},
   "outputs": [
    {
     "name": "stdout",
     "output_type": "stream",
     "text": [
      "[0.1 0.1 0.1 0.1 0.1 0.1 0.1 0.1 0.1 0.1]\n"
     ]
    }
   ],
   "source": [
    "import numpy as np\n",
    "belief = np.array([1./10]*10)\n",
    "print(belief)"
   ]
  },
  {
   "cell_type": "markdown",
   "metadata": {},
   "source": [
    "\n",
    "Suppose the $X$ be the random variable which take account the position of the dog or we have sample space of the position of the dog as $S=\\{x_1,x_2,x_3.....x_{10} \\}$ now $X$ be the will assign the real number to the outcome of the position of the dog which is equally likely so $X(x_1)=1,X(x_2)=2,....X(x_{10})=10$ and $P(X=x_1)=P(X=1)=0.1$ so \n",
    "\n",
    "$$\\sum\\limits_n^{10} P(X{=}x_n)= 1$$ or $$\\sum\\limits_n^{10} P(X{=} n)= 1$$ "
   ]
  },
  {
   "cell_type": "code",
   "execution_count": 26,
   "metadata": {},
   "outputs": [
    {
     "data": {
      "image/png": "[encoded data removed]",
      "text/plain": [
       "<Figure size 900x400 with 1 Axes>"
      ]
     },
     "metadata": {},
     "output_type": "display_data"
    }
   ],
   "source": [
    "import kf_book.book_plots as book_plots\n",
    "from kf_book.book_plots import figsize, set_figsize\n",
    "import matplotlib.pyplot as plt\n",
    "\n",
    "book_plots.bar_plot(belief)"
   ]
  },
  {
   "cell_type": "markdown",
   "metadata": {},
   "source": [
    "So you can see the prior probability distribution of the dogs position is equally distributed. Is more like uniform distribution."
   ]
  },
  {
   "cell_type": "markdown",
   "metadata": {},
   "source": [
    "\n",
    "### 4.2. Here we assign  the door and wall positions to the ten locations of the hallway<a class=\"anchor\" id=\"4.2\"></a>\n",
    "\n",
    "**Now let's create a map of the hallway.** We'll place the first two doors close together, and then another door further away. We will use 1 for doors, and 0 for walls:**Here we are adding or get  new information to the ten different position of the hall.now we will see how our belief changes as we give new information.** "
   ]
  },
  {
   "cell_type": "code",
   "execution_count": 27,
   "metadata": {},
   "outputs": [],
   "source": [
    "hallway = np.array([1, 1, 0, 0, 0, 0, 0, 0, 1, 0])"
   ]
  },
  {
   "cell_type": "markdown",
   "metadata": {},
   "source": [
    "I start listening to Simon's transmissions on the network, and the first data I get from the sensor is **door**. For the moment assume the sensor always returns the **correct answer**. From this I conclude that he is in front of a door, but which one? I have no reason to believe he is in front of the first, second, or third door. What I can do is assign a probability to each door. All doors are equally likely, and there are three of them, so I assign a probability of 1/3 to each door.**so no question that he is in front  of the wall so the zero probability is assign to the belief for each wall .**"
   ]
  },
  {
   "cell_type": "code",
   "execution_count": 28,
   "metadata": {},
   "outputs": [
    {
     "data": {
      "image/png": "[encoded data removed]",
      "text/plain": [
       "<Figure size 900x400 with 1 Axes>"
      ]
     },
     "metadata": {},
     "output_type": "display_data"
    }
   ],
   "source": [
    "belief = hallway * (1./3)\n",
    "book_plots.bar_plot(belief)"
   ]
  },
  {
   "cell_type": "markdown",
   "metadata": {},
   "source": [
    "As you can see the probability distribution changes as we give two new evidence i.e first divide  the ten hall way positions into *Door* and *Wall* and second our sensor new measurement said that Simon is at door but which door we are not sure but certainly Simon is not near the Wall (as we assume the sensor is correct).So we alter our belief as shown above and assign probability 1/3 which is much better than 1/10."
   ]
  },
  {
   "cell_type": "markdown",
   "metadata": {},
   "source": [
    "### 4.3. Noisy Sensors<a class=\"anchor\" id=\"4.3\"></a>\n",
    "\n",
    "What if sensors are incorrect ?\n",
    "\n",
    "Perfect sensors are rare. Perhaps the sensor would not detect a door if Simon sat in front of it while scratching himself, or misread if he is not facing down the hallway. Thus when I get **door** I cannot use 1/3 as the probability. I have to assign less than 1/3 to each door, and assign a small probability to each blank wall position. Something like\n",
    "\n",
    "```Python\n",
    "[.31, .31, .01, .01, .01, .01, .01, .01, .31, .01]\n",
    "```\n",
    "\n",
    "At first this may seem insurmountable. If the sensor is noisy it casts doubt on every piece of data. How can we conclude anything if we are always unsure?\n",
    "\n",
    "The answer, as for the problem above, is with probabilities. We are already comfortable assigning a probabilistic belief to the location of the dog; now we have to incorporate the additional uncertainty caused by the sensor noise. \n",
    "\n",
    "Say we get a reading of **door**, and suppose that testing shows that **the sensor is 3 times more likely to be right than wrong. We should scale the probability distribution by 3 where there is a door**. If we do that the result will no longer be a probability distribution, but we will learn how to fix that in a moment.\n",
    "\n",
    "Let's look at that in Python code. Here I use the variable `z` to denote the measurement.It is a bit odd to say \"3 times as likely to be right as wrong\". We are working in probabilities, so let's specify the probability of the sensor being correct, and compute the scale factor from that. The equation for that is\n",
    "\n",
    "$$scale =  \\frac{prob_{correct}}{prob_{incorrect}} = \\frac{prob_{correct}} {1-prob_{correct}}$$\n",
    "\n",
    "I will use `z_prob` for the scaling factor of how much my sensor is correct. "
   ]
  },
  {
   "cell_type": "code",
   "execution_count": 32,
   "metadata": {},
   "outputs": [
    {
     "name": "stdout",
     "output_type": "stream",
     "text": [
      "sum = 1.0\n",
      "probability of door = 0.1875\n",
      "probability of wall = 0.06249999999999999\n",
      "[0.188 0.188 0.062 0.062 0.062 0.062 0.062 0.062 0.188 0.062]\n"
     ]
    },
    {
     "data": {
      "image/png": "[encoded data removed]",
      "text/plain": [
       "<Figure size 900x400 with 1 Axes>"
      ]
     },
     "metadata": {},
     "output_type": "display_data"
    }
   ],
   "source": [
    "from filterpy.discrete_bayes import normalize\n",
    "\n",
    "def scaled_update(hall, belief, z, z_prob): \n",
    "    scale = z_prob / (1. - z_prob)  #0.75/0.25=3.\n",
    "    belief[hall==z] *= scale\n",
    "    normalize(belief)\n",
    "\n",
    "belief = np.array([0.1] * 10)\n",
    "scaled_update(hallway, belief, z=1, z_prob=.75)\n",
    "\n",
    "print('sum =', sum(belief))\n",
    "print('probability of door =', belief[0])\n",
    "print('probability of wall =', belief[2])\n",
    "print(belief)\n",
    "book_plots.bar_plot(belief, ylim=(0, .3))"
   ]
  },
  {
   "cell_type": "markdown",
   "metadata": {},
   "source": [
    " We can see from the output that the sum is now 1.0, and that the probability of a door vs wall is still three times larger. The result also fits our intuition that the probability of a door must be less than 0.333, and that the probability of a wall must be greater than 0.0. Finally, it should fit our intuition that we have not yet been given any information that would allow us to distinguish between any given door or wall position, so all door positions should have the same value, and the same should be true for wall positions.\n",
    " \n",
    "This result is called the [*posterior*](https://en.wikipedia.org/wiki/Posterior_probability), which is short for *posterior probability distribution*. All this means is a probability distribution *after* incorporating the measurement information (posterior means 'after' in this context). To review, the *prior* is the probability distribution before including the measurement's information. \n",
    "\n",
    "Another term is the [*likelihood*](https://en.wikipedia.org/wiki/Likelihood_function). When we computed (New information from sensor as **door** )`belief[hall==z] *= scale` we were computing how *likely* each position was given the measurement. The likelihood is not a probability distribution because it does not sum to one.\n",
    "\n",
    "The combination of these gives the equation\n",
    "\n",
    "$$\\mathtt{posterior} = \\frac{\\mathtt{likelihood} \\times \\mathtt{prior}}{\\mathtt{normalization}}$$ \n",
    "\n",
    "\n",
    "\n",
    "Does `scaled_update()` perform this computation? It does. Let me recast it into this form:"
   ]
  },
  {
   "cell_type": "code",
   "execution_count": 30,
   "metadata": {},
   "outputs": [],
   "source": [
    "def update(likelihood, prior):\n",
    "    posterior = prior * likelihood   # p(z|x) * p(x)\n",
    "    return normalize(posterior)"
   ]
  },
  {
   "cell_type": "code",
   "execution_count": 31,
   "metadata": {},
   "outputs": [
    {
     "name": "stdout",
     "output_type": "stream",
     "text": [
      "[0.188 0.188 0.062 0.062 0.062 0.062 0.062 0.062 0.188 0.062]\n"
     ]
    },
    {
     "data": {
      "image/png": "[encoded data removed]",
      "text/plain": [
       "<Figure size 900x400 with 1 Axes>"
      ]
     },
     "metadata": {},
     "output_type": "display_data"
    }
   ],
   "source": [
    "from filterpy.discrete_bayes import update\n",
    "\n",
    "def lh_hallway(hall, z, z_prob):\n",
    "    \"\"\" compute likelihood that a measurement matches\n",
    "    positions in the hallway.\"\"\"\n",
    "    \n",
    "    try:\n",
    "        scale = z_prob / (1. - z_prob)\n",
    "    except ZeroDivisionError:\n",
    "        scale = 1e8\n",
    "\n",
    "    likelihood = np.ones(len(hall))\n",
    "    likelihood[hall==z] *= scale\n",
    "    return likelihood\n",
    "\n",
    "belief = np.array([0.1] * 10)\n",
    "likelihood = lh_hallway(hallway, z=1, z_prob=.75)\n",
    "posterior=update(likelihood,belief)\n",
    "\n",
    "print(posterior)\n",
    "book_plots.bar_plot(posterior, ylim=(0, .3))"
   ]
  },
  {
   "cell_type": "markdown",
   "metadata": {},
   "source": [
    "\n",
    "I've glossed over an important point. In our code above we are not working with single probabilities, but an array of probabilities - a *probability distribution*. The equation for Bayes uses probabilities, not probability distributions. However, it is equally valid with probability distributions. We use a lower case $p$ for probability distributions same as equation (A)\n",
    "\n",
    "$$p(A \\mid B) = \\frac{p(B \\mid A)\\, p(A)}{p(B)}$$\n",
    "\n",
    "In the equation above $B$ is the *evidence*, $p(A)$ is the *prior*, $p(B \\mid A)$ is the *likelihood*, and $p(A \\mid B)$ is the *posterior*. By substituting the mathematical terms with the corresponding words  you can see that Bayes theorem matches out update equation. Let's rewrite the equation in terms of our problem. We will use $x_i$ for the position at *i*, and $z$ for the measurement. Hence, we want to know $P(x_i \\mid z)$, that is, the probability of the dog being at $x_i$ given the measurement $z$.\n",
    "\n",
    "So, let's plug that into the equation and solve it.\n",
    "\n",
    "$$p(x_i \\mid z) = \\frac{p(z \\mid x_i) p(x_i)}{p(z)}$$\n",
    "\n",
    "That looks ugly, but it is actually quite simple. Let's figure out what each term on the right means. First is $p(z \\mid x_i)$. **This is the the likelihood, or the probability for the measurement at every cell $x_i$. $p(x_i)$ is the *prior* - our belief before incorporating the measurements.** We multiply those together. This is just the unnormalized multiplication in the `update()` function:\n",
    "\n",
    "```python\n",
    "def update(likelihood, prior):\n",
    "    posterior = prior * likelihood   # p(z|x) * p(x)\n",
    "    return normalize(posterior)\n",
    "```\n",
    "\n",
    "The last term to consider is the denominator $p(z)$. This is the probability of getting the measurement $z$ without taking the location into account. It is often called the *evidence*. We compute that by taking the sum of $x$, or `sum(belief)` in the code. That is how we compute the normalization! So, the `update()` function is doing nothing more than computing Bayes' theorem."
   ]
  },
  {
   "cell_type": "markdown",
   "metadata": {},
   "source": [
    "## References<a class=\"anchor\" id=\"r\"></a>\n",
    "\n",
    "* [1] [Bishop - Pattern Recognition And Machine Learning - Springer  2006](https://www.academia.edu/17851990/Bishop_Pattern_Recognition_and_Machine_Learning)\n",
    "* [2] [towards Data science.](https://towardsdatascience.com/understanding-bayes-theorem-7e31b8434d4b)\n",
    "* [3] [Kalman-and-Bayesian-Filters-in-Python](https://github.com/rlabbe/Kalman-and-Bayesian-Filters-in-Python/blob/master/02-Discrete-Bayes.ipynb)\n",
    "* [4] [Notes on the Deep Learning book from Ian Goodfellow, Yoshua Bengio and Aaron Courville (2016)](https://github.com/hadrienj/deepLearningBook-Notes/blob/master/3.1-3.3%20Probability%20Mass%20and%20Density%20Functions/3.1-3.3%20Probability%20Mass%20and%20Density%20Functions.ipynb)"
   ]
  },
  {
   "cell_type": "code",
   "execution_count": null,
   "metadata": {},
   "outputs": [],
   "source": []
  }
 ],
 "metadata": {
  "kernelspec": {
   "display_name": "Python 3",
   "language": "python",
   "name": "python3"
  },
  "language_info": {
   "codemirror_mode": {
    "name": "ipython",
    "version": 3
   },
   "file_extension": ".py",
   "mimetype": "text/x-python",
   "name": "python",
   "nbconvert_exporter": "python",
   "pygments_lexer": "ipython3",
   "version": "3.7.4"
  }
 },
 "nbformat": 4,
 "nbformat_minor": 2
}
